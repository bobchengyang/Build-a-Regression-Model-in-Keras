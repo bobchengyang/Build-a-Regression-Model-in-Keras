{
 "cells": [
  {
   "cell_type": "markdown",
   "metadata": {
    "button": false,
    "new_sheet": false,
    "run_control": {
     "read_only": false
    }
   },
   "source": [
    "<h1 align=center><font size = 5>Build a Regression Model in Keras Assignment</font></h1>"
   ]
  },
  {
   "cell_type": "markdown",
   "metadata": {
    "button": false,
    "new_sheet": false,
    "run_control": {
     "read_only": false
    }
   },
   "source": [
    "## Table of Contents\n",
    "\n",
    "<div class=\"alert alert-block alert-info\" style=\"margin-top: 20px\">\n",
    "\n",
    "<font size = 3>\n",
    "    \n",
    "1. <a href=\"#item31\">Build a baseline model</a>  \n",
    "2. <a href=\"#item32\">Normalize the data</a>  \n",
    "3. <a href=\"#item33\">Increase the number of epochs</a>  \n",
    "4. <a href=\"#item34\">Increase the number of hidden layers</a>  \n",
    "\n",
    "</font>\n",
    "</div>"
   ]
  },
  {
   "cell_type": "markdown",
   "metadata": {
    "button": false,
    "new_sheet": false,
    "run_control": {
     "read_only": false
    }
   },
   "source": [
    "<a id=\"item31\"></a>"
   ]
  },
  {
   "cell_type": "markdown",
   "metadata": {
    "button": false,
    "new_sheet": false,
    "run_control": {
     "read_only": false
    }
   },
   "source": [
    "## Build a base line model"
   ]
  },
  {
   "cell_type": "code",
   "execution_count": 1,
   "metadata": {
    "button": false,
    "new_sheet": false,
    "run_control": {
     "read_only": false
    }
   },
   "outputs": [],
   "source": [
    "# import basic libraries\n",
    "import pandas as pd\n",
    "import numpy as np"
   ]
  },
  {
   "cell_type": "code",
   "execution_count": 2,
   "metadata": {},
   "outputs": [],
   "source": [
    "# download data\n",
    "concrete_data = pd.read_csv('https://s3-api.us-geo.objectstorage.softlayer.net/cf-courses-data/CognitiveClass/DL0101EN/labs/data/concrete_data.csv')"
   ]
  },
  {
   "cell_type": "code",
   "execution_count": 3,
   "metadata": {},
   "outputs": [
    {
     "data": {
      "text/plain": [
       "(1030, 9)"
      ]
     },
     "execution_count": 3,
     "metadata": {},
     "output_type": "execute_result"
    }
   ],
   "source": [
    "# check data shape\n",
    "concrete_data.shape"
   ]
  },
  {
   "cell_type": "code",
   "execution_count": 4,
   "metadata": {},
   "outputs": [
    {
     "data": {
      "text/plain": [
       "Cement                0\n",
       "Blast Furnace Slag    0\n",
       "Fly Ash               0\n",
       "Water                 0\n",
       "Superplasticizer      0\n",
       "Coarse Aggregate      0\n",
       "Fine Aggregate        0\n",
       "Age                   0\n",
       "Strength              0\n",
       "dtype: int64"
      ]
     },
     "execution_count": 4,
     "metadata": {},
     "output_type": "execute_result"
    }
   ],
   "source": [
    "# check missing values\n",
    "concrete_data.isnull().sum()"
   ]
  },
  {
   "cell_type": "code",
   "execution_count": 5,
   "metadata": {
    "button": false,
    "new_sheet": false,
    "run_control": {
     "read_only": false
    }
   },
   "outputs": [],
   "source": [
    "# split data into predictors and target\n",
    "concrete_data_columns = concrete_data.columns\n",
    "predictors = concrete_data[concrete_data_columns[concrete_data_columns != 'Strength']] # all columns except Strength\n",
    "target = concrete_data['Strength'] # Strength column"
   ]
  },
  {
   "cell_type": "code",
   "execution_count": 6,
   "metadata": {
    "button": false,
    "new_sheet": false,
    "run_control": {
     "read_only": false
    }
   },
   "outputs": [
    {
     "data": {
      "text/html": [
       "<div>\n",
       "<style scoped>\n",
       "    .dataframe tbody tr th:only-of-type {\n",
       "        vertical-align: middle;\n",
       "    }\n",
       "\n",
       "    .dataframe tbody tr th {\n",
       "        vertical-align: top;\n",
       "    }\n",
       "\n",
       "    .dataframe thead th {\n",
       "        text-align: right;\n",
       "    }\n",
       "</style>\n",
       "<table border=\"1\" class=\"dataframe\">\n",
       "  <thead>\n",
       "    <tr style=\"text-align: right;\">\n",
       "      <th></th>\n",
       "      <th>Cement</th>\n",
       "      <th>Blast Furnace Slag</th>\n",
       "      <th>Fly Ash</th>\n",
       "      <th>Water</th>\n",
       "      <th>Superplasticizer</th>\n",
       "      <th>Coarse Aggregate</th>\n",
       "      <th>Fine Aggregate</th>\n",
       "      <th>Age</th>\n",
       "    </tr>\n",
       "  </thead>\n",
       "  <tbody>\n",
       "    <tr>\n",
       "      <th>0</th>\n",
       "      <td>540.0</td>\n",
       "      <td>0.0</td>\n",
       "      <td>0.0</td>\n",
       "      <td>162.0</td>\n",
       "      <td>2.5</td>\n",
       "      <td>1040.0</td>\n",
       "      <td>676.0</td>\n",
       "      <td>28</td>\n",
       "    </tr>\n",
       "    <tr>\n",
       "      <th>1</th>\n",
       "      <td>540.0</td>\n",
       "      <td>0.0</td>\n",
       "      <td>0.0</td>\n",
       "      <td>162.0</td>\n",
       "      <td>2.5</td>\n",
       "      <td>1055.0</td>\n",
       "      <td>676.0</td>\n",
       "      <td>28</td>\n",
       "    </tr>\n",
       "    <tr>\n",
       "      <th>2</th>\n",
       "      <td>332.5</td>\n",
       "      <td>142.5</td>\n",
       "      <td>0.0</td>\n",
       "      <td>228.0</td>\n",
       "      <td>0.0</td>\n",
       "      <td>932.0</td>\n",
       "      <td>594.0</td>\n",
       "      <td>270</td>\n",
       "    </tr>\n",
       "    <tr>\n",
       "      <th>3</th>\n",
       "      <td>332.5</td>\n",
       "      <td>142.5</td>\n",
       "      <td>0.0</td>\n",
       "      <td>228.0</td>\n",
       "      <td>0.0</td>\n",
       "      <td>932.0</td>\n",
       "      <td>594.0</td>\n",
       "      <td>365</td>\n",
       "    </tr>\n",
       "    <tr>\n",
       "      <th>4</th>\n",
       "      <td>198.6</td>\n",
       "      <td>132.4</td>\n",
       "      <td>0.0</td>\n",
       "      <td>192.0</td>\n",
       "      <td>0.0</td>\n",
       "      <td>978.4</td>\n",
       "      <td>825.5</td>\n",
       "      <td>360</td>\n",
       "    </tr>\n",
       "  </tbody>\n",
       "</table>\n",
       "</div>"
      ],
      "text/plain": [
       "   Cement  Blast Furnace Slag  Fly Ash  Water  Superplasticizer  \\\n",
       "0   540.0                 0.0      0.0  162.0               2.5   \n",
       "1   540.0                 0.0      0.0  162.0               2.5   \n",
       "2   332.5               142.5      0.0  228.0               0.0   \n",
       "3   332.5               142.5      0.0  228.0               0.0   \n",
       "4   198.6               132.4      0.0  192.0               0.0   \n",
       "\n",
       "   Coarse Aggregate  Fine Aggregate  Age  \n",
       "0            1040.0           676.0   28  \n",
       "1            1055.0           676.0   28  \n",
       "2             932.0           594.0  270  \n",
       "3             932.0           594.0  365  \n",
       "4             978.4           825.5  360  "
      ]
     },
     "execution_count": 6,
     "metadata": {},
     "output_type": "execute_result"
    }
   ],
   "source": [
    "# sanity check predictor\n",
    "predictors.head()"
   ]
  },
  {
   "cell_type": "code",
   "execution_count": 7,
   "metadata": {
    "button": false,
    "new_sheet": false,
    "run_control": {
     "read_only": false
    }
   },
   "outputs": [
    {
     "data": {
      "text/plain": [
       "0    79.99\n",
       "1    61.89\n",
       "2    40.27\n",
       "3    41.05\n",
       "4    44.30\n",
       "Name: Strength, dtype: float64"
      ]
     },
     "execution_count": 7,
     "metadata": {},
     "output_type": "execute_result"
    }
   ],
   "source": [
    "# sanity check target\n",
    "target.head()"
   ]
  },
  {
   "cell_type": "code",
   "execution_count": 8,
   "metadata": {
    "button": false,
    "new_sheet": false,
    "run_control": {
     "read_only": false
    }
   },
   "outputs": [
    {
     "data": {
      "text/plain": [
       "8"
      ]
     },
     "execution_count": 8,
     "metadata": {},
     "output_type": "execute_result"
    }
   ],
   "source": [
    "# number of predictors, which is to be used in building Keras networks\n",
    "n_cols = predictors.shape[1]\n",
    "n_cols"
   ]
  },
  {
   "cell_type": "code",
   "execution_count": 9,
   "metadata": {
    "button": false,
    "new_sheet": false,
    "run_control": {
     "read_only": false
    }
   },
   "outputs": [
    {
     "name": "stderr",
     "output_type": "stream",
     "text": [
      "Using TensorFlow backend.\n"
     ]
    }
   ],
   "source": [
    "# import keras-related libraries\n",
    "import keras\n",
    "from keras.models import Sequential\n",
    "from keras.layers import Dense"
   ]
  },
  {
   "cell_type": "code",
   "execution_count": 10,
   "metadata": {
    "button": false,
    "new_sheet": false,
    "run_control": {
     "read_only": false
    }
   },
   "outputs": [],
   "source": [
    "# define regression model\n",
    "\n",
    "#- One hidden layer of 10 nodes, and a ReLU activation function\n",
    "\n",
    "#- Use the adam optimizer and the mean squared error as the loss function.\n",
    "\n",
    "def regression_model():\n",
    "    # create model\n",
    "    model = Sequential()\n",
    "    model.add(Dense(10, activation='relu', input_shape=(n_cols,)))\n",
    "    model.add(Dense(1))\n",
    "    \n",
    "    # compile model\n",
    "    model.compile(optimizer='adam', loss='mean_squared_error')\n",
    "    return model"
   ]
  },
  {
   "cell_type": "code",
   "execution_count": 11,
   "metadata": {
    "button": false,
    "new_sheet": false,
    "run_control": {
     "read_only": false
    }
   },
   "outputs": [
    {
     "name": "stdout",
     "output_type": "stream",
     "text": [
      "WARNING:tensorflow:From C:\\Anaconda3\\envs\\bobcy\\lib\\site-packages\\tensorflow\\python\\framework\\op_def_library.py:263: colocate_with (from tensorflow.python.framework.ops) is deprecated and will be removed in a future version.\n",
      "Instructions for updating:\n",
      "Colocations handled automatically by placer.\n"
     ]
    }
   ],
   "source": [
    "# build the model\n",
    "model = regression_model()"
   ]
  },
  {
   "cell_type": "code",
   "execution_count": 12,
   "metadata": {},
   "outputs": [
    {
     "name": "stdout",
     "output_type": "stream",
     "text": [
      "current time: 0\n",
      "WARNING:tensorflow:From C:\\Anaconda3\\envs\\bobcy\\lib\\site-packages\\tensorflow\\python\\ops\\math_ops.py:3066: to_int32 (from tensorflow.python.ops.math_ops) is deprecated and will be removed in a future version.\n",
      "Instructions for updating:\n",
      "Use tf.cast instead.\n",
      "309/309 [==============================] - 0s 110us/step\n",
      "current time: 1\n",
      "309/309 [==============================] - 0s 26us/step\n",
      "current time: 2\n",
      "309/309 [==============================] - 0s 23us/step\n",
      "current time: 3\n",
      "309/309 [==============================] - 0s 23us/step\n",
      "current time: 4\n",
      "309/309 [==============================] - 0s 23us/step\n",
      "current time: 5\n",
      "309/309 [==============================] - 0s 23us/step\n",
      "current time: 6\n",
      "309/309 [==============================] - 0s 23us/step\n",
      "current time: 7\n",
      "309/309 [==============================] - 0s 62us/step\n",
      "current time: 8\n",
      "309/309 [==============================] - 0s 28us/step\n",
      "current time: 9\n",
      "309/309 [==============================] - 0s 65us/step\n",
      "current time: 10\n",
      "309/309 [==============================] - 0s 51us/step\n",
      "current time: 11\n",
      "309/309 [==============================] - 0s 32us/step\n",
      "current time: 12\n",
      "309/309 [==============================] - 0s 28us/step\n",
      "current time: 13\n",
      "309/309 [==============================] - 0s 26us/step\n",
      "current time: 14\n",
      "309/309 [==============================] - 0s 23us/step\n",
      "current time: 15\n",
      "309/309 [==============================] - 0s 26us/step\n",
      "current time: 16\n",
      "309/309 [==============================] - 0s 23us/step\n",
      "current time: 17\n",
      "309/309 [==============================] - 0s 43us/step\n",
      "current time: 18\n",
      "309/309 [==============================] - 0s 29us/step\n",
      "current time: 19\n",
      "309/309 [==============================] - 0s 79us/step\n",
      "current time: 20\n",
      "309/309 [==============================] - 0s 68us/step\n",
      "current time: 21\n",
      "309/309 [==============================] - 0s 36us/step\n",
      "current time: 22\n",
      "309/309 [==============================] - 0s 36us/step\n",
      "current time: 23\n",
      "309/309 [==============================] - 0s 23us/step\n",
      "current time: 24\n",
      "309/309 [==============================] - 0s 23us/step\n",
      "current time: 25\n",
      "309/309 [==============================] - 0s 23us/step\n",
      "current time: 26\n",
      "309/309 [==============================] - 0s 23us/step\n",
      "current time: 27\n",
      "309/309 [==============================] - 0s 23us/step\n",
      "current time: 28\n",
      "309/309 [==============================] - 0s 26us/step\n",
      "current time: 29\n",
      "309/309 [==============================] - 0s 37us/step\n",
      "current time: 30\n",
      "309/309 [==============================] - 0s 23us/step\n",
      "current time: 31\n",
      "309/309 [==============================] - 0s 23us/step\n",
      "current time: 32\n",
      "309/309 [==============================] - 0s 23us/step\n",
      "current time: 33\n",
      "309/309 [==============================] - 0s 23us/step\n",
      "current time: 34\n",
      "309/309 [==============================] - 0s 39us/step\n",
      "current time: 35\n",
      "309/309 [==============================] - 0s 42us/step\n",
      "current time: 36\n",
      "309/309 [==============================] - 0s 52us/step\n",
      "current time: 37\n",
      "309/309 [==============================] - 0s 23us/step\n",
      "current time: 38\n",
      "309/309 [==============================] - 0s 23us/step\n",
      "current time: 39\n",
      "309/309 [==============================] - 0s 23us/step\n",
      "current time: 40\n",
      "309/309 [==============================] - 0s 23us/step\n",
      "current time: 41\n",
      "309/309 [==============================] - 0s 23us/step\n",
      "current time: 42\n",
      "309/309 [==============================] - 0s 29us/step\n",
      "current time: 43\n",
      "309/309 [==============================] - 0s 44us/step\n",
      "current time: 44\n",
      "309/309 [==============================] - 0s 40us/step\n",
      "current time: 45\n",
      "309/309 [==============================] - 0s 33us/step\n",
      "current time: 46\n",
      "309/309 [==============================] - 0s 38us/step\n",
      "current time: 47\n",
      "309/309 [==============================] - 0s 49us/step\n",
      "current time: 48\n",
      "309/309 [==============================] - 0s 19us/step\n",
      "current time: 49\n",
      "309/309 [==============================] - 0s 27us/step\n",
      "done.\n"
     ]
    }
   ],
   "source": [
    "# 1. Randomly split the data into a training and test sets by holding 30% of the data for testing. \n",
    "# 2. Train the model on the training data using 50 epochs.\n",
    "# 3. Evaluate the model on the test data and compute the mean squared error between the predicted \n",
    "# concrete strength and the actual concrete strength.\n",
    "\n",
    "from sklearn.model_selection import train_test_split\n",
    "\n",
    "mse_table = np.zeros((50,1)) # have a record of the mse's\n",
    "\n",
    "for i in list(range(0,50)):\n",
    "    \n",
    "    print('current time: ' + str(i))\n",
    "    \n",
    "    X_train, X_test, y_train, y_test = \\\n",
    "    train_test_split(predictors, target, test_size=0.3, random_state=0)\n",
    "    \n",
    "    # fit the model\n",
    "    model.fit(X_train, y_train, validation_split=0.0, epochs=50, verbose=0)\n",
    "    \n",
    "    # evaluate the model and return the mse on the test set\n",
    "    mse_table[i] = model.evaluate(X_test, y_test)\n",
    "\n",
    "print('done.')"
   ]
  },
  {
   "cell_type": "code",
   "execution_count": 13,
   "metadata": {},
   "outputs": [
    {
     "name": "stdout",
     "output_type": "stream",
     "text": [
      "[[534.86235506]\n",
      " [139.23330977]\n",
      " [114.18982366]\n",
      " [106.69105064]\n",
      " [100.44162748]\n",
      " [ 99.4603328 ]\n",
      " [101.42816624]\n",
      " [ 96.4884551 ]\n",
      " [ 98.97460238]\n",
      " [ 98.05931672]\n",
      " [ 95.74180508]\n",
      " [104.55284943]\n",
      " [ 97.09748784]\n",
      " [ 95.27042807]\n",
      " [ 96.96716711]\n",
      " [ 64.41044071]\n",
      " [ 48.46453244]\n",
      " [ 62.03702377]\n",
      " [ 54.43123446]\n",
      " [ 47.93477308]\n",
      " [ 48.17234866]\n",
      " [ 50.0069812 ]\n",
      " [ 47.43684909]\n",
      " [ 47.13066283]\n",
      " [ 47.34763489]\n",
      " [ 49.32839519]\n",
      " [ 47.72999778]\n",
      " [ 47.74872313]\n",
      " [ 47.66065354]\n",
      " [ 47.96813862]\n",
      " [ 49.46216135]\n",
      " [ 53.4093731 ]\n",
      " [ 47.85429782]\n",
      " [ 50.96166614]\n",
      " [ 50.39159799]\n",
      " [ 47.73963897]\n",
      " [ 48.05373897]\n",
      " [ 48.97916301]\n",
      " [ 48.11198892]\n",
      " [ 47.95162265]\n",
      " [ 47.65674236]\n",
      " [ 47.90482397]\n",
      " [ 48.12718253]\n",
      " [ 47.76954734]\n",
      " [ 58.32649535]\n",
      " [ 47.58783998]\n",
      " [ 47.65429758]\n",
      " [ 47.90678018]\n",
      " [ 49.09355388]\n",
      " [ 47.91417709]]\n",
      "mean of the mse: 74.40247711947049\n",
      "std of the mse: 70.31772546856602\n"
     ]
    }
   ],
   "source": [
    "# print the mse's\n",
    "print(mse_table)\n",
    "\n",
    "# print the mean of the mse's\n",
    "print('mean of the mse: ' + str(np.mean(mse_table)))\n",
    "\n",
    "# print the standard deviation of the mse's\n",
    "print('std of the mse: ' + str(np.std(mse_table)))"
   ]
  },
  {
   "cell_type": "markdown",
   "metadata": {},
   "source": [
    "<a id=\"item32\"></a>"
   ]
  },
  {
   "cell_type": "markdown",
   "metadata": {},
   "source": [
    "## Normalize the data"
   ]
  },
  {
   "cell_type": "code",
   "execution_count": 14,
   "metadata": {},
   "outputs": [
    {
     "data": {
      "text/html": [
       "<div>\n",
       "<style scoped>\n",
       "    .dataframe tbody tr th:only-of-type {\n",
       "        vertical-align: middle;\n",
       "    }\n",
       "\n",
       "    .dataframe tbody tr th {\n",
       "        vertical-align: top;\n",
       "    }\n",
       "\n",
       "    .dataframe thead th {\n",
       "        text-align: right;\n",
       "    }\n",
       "</style>\n",
       "<table border=\"1\" class=\"dataframe\">\n",
       "  <thead>\n",
       "    <tr style=\"text-align: right;\">\n",
       "      <th></th>\n",
       "      <th>Cement</th>\n",
       "      <th>Blast Furnace Slag</th>\n",
       "      <th>Fly Ash</th>\n",
       "      <th>Water</th>\n",
       "      <th>Superplasticizer</th>\n",
       "      <th>Coarse Aggregate</th>\n",
       "      <th>Fine Aggregate</th>\n",
       "      <th>Age</th>\n",
       "    </tr>\n",
       "  </thead>\n",
       "  <tbody>\n",
       "    <tr>\n",
       "      <th>0</th>\n",
       "      <td>2.476712</td>\n",
       "      <td>-0.856472</td>\n",
       "      <td>-0.846733</td>\n",
       "      <td>-0.916319</td>\n",
       "      <td>-0.620147</td>\n",
       "      <td>0.862735</td>\n",
       "      <td>-1.217079</td>\n",
       "      <td>-0.279597</td>\n",
       "    </tr>\n",
       "    <tr>\n",
       "      <th>1</th>\n",
       "      <td>2.476712</td>\n",
       "      <td>-0.856472</td>\n",
       "      <td>-0.846733</td>\n",
       "      <td>-0.916319</td>\n",
       "      <td>-0.620147</td>\n",
       "      <td>1.055651</td>\n",
       "      <td>-1.217079</td>\n",
       "      <td>-0.279597</td>\n",
       "    </tr>\n",
       "    <tr>\n",
       "      <th>2</th>\n",
       "      <td>0.491187</td>\n",
       "      <td>0.795140</td>\n",
       "      <td>-0.846733</td>\n",
       "      <td>2.174405</td>\n",
       "      <td>-1.038638</td>\n",
       "      <td>-0.526262</td>\n",
       "      <td>-2.239829</td>\n",
       "      <td>3.551340</td>\n",
       "    </tr>\n",
       "    <tr>\n",
       "      <th>3</th>\n",
       "      <td>0.491187</td>\n",
       "      <td>0.795140</td>\n",
       "      <td>-0.846733</td>\n",
       "      <td>2.174405</td>\n",
       "      <td>-1.038638</td>\n",
       "      <td>-0.526262</td>\n",
       "      <td>-2.239829</td>\n",
       "      <td>5.055221</td>\n",
       "    </tr>\n",
       "    <tr>\n",
       "      <th>4</th>\n",
       "      <td>-0.790075</td>\n",
       "      <td>0.678079</td>\n",
       "      <td>-0.846733</td>\n",
       "      <td>0.488555</td>\n",
       "      <td>-1.038638</td>\n",
       "      <td>0.070492</td>\n",
       "      <td>0.647569</td>\n",
       "      <td>4.976069</td>\n",
       "    </tr>\n",
       "  </tbody>\n",
       "</table>\n",
       "</div>"
      ],
      "text/plain": [
       "     Cement  Blast Furnace Slag   Fly Ash     Water  Superplasticizer  \\\n",
       "0  2.476712           -0.856472 -0.846733 -0.916319         -0.620147   \n",
       "1  2.476712           -0.856472 -0.846733 -0.916319         -0.620147   \n",
       "2  0.491187            0.795140 -0.846733  2.174405         -1.038638   \n",
       "3  0.491187            0.795140 -0.846733  2.174405         -1.038638   \n",
       "4 -0.790075            0.678079 -0.846733  0.488555         -1.038638   \n",
       "\n",
       "   Coarse Aggregate  Fine Aggregate       Age  \n",
       "0          0.862735       -1.217079 -0.279597  \n",
       "1          1.055651       -1.217079 -0.279597  \n",
       "2         -0.526262       -2.239829  3.551340  \n",
       "3         -0.526262       -2.239829  5.055221  \n",
       "4          0.070492        0.647569  4.976069  "
      ]
     },
     "execution_count": 14,
     "metadata": {},
     "output_type": "execute_result"
    }
   ],
   "source": [
    "# data normalization\n",
    "predictors_norm = (predictors - predictors.mean()) / predictors.std()\n",
    "predictors_norm.head()"
   ]
  },
  {
   "cell_type": "code",
   "execution_count": 15,
   "metadata": {},
   "outputs": [
    {
     "name": "stdout",
     "output_type": "stream",
     "text": [
      "current time: 0\n",
      "309/309 [==============================] - 0s 37us/step\n",
      "current time: 1\n",
      "309/309 [==============================] - 0s 34us/step\n",
      "current time: 2\n",
      "309/309 [==============================] - 0s 62us/step\n",
      "current time: 3\n",
      "309/309 [==============================] - 0s 42us/step\n",
      "current time: 4\n",
      "309/309 [==============================] - 0s 62us/step\n",
      "current time: 5\n",
      "309/309 [==============================] - 0s 50us/step\n",
      "current time: 6\n",
      "309/309 [==============================] - 0s 73us/step\n",
      "current time: 7\n",
      "309/309 [==============================] - 0s 41us/step\n",
      "current time: 8\n",
      "309/309 [==============================] - 0s 44us/step\n",
      "current time: 9\n",
      "309/309 [==============================] - 0s 71us/step\n",
      "current time: 10\n",
      "309/309 [==============================] - 0s 50us/step\n",
      "current time: 11\n",
      "309/309 [==============================] - 0s 36us/step\n",
      "current time: 12\n",
      "309/309 [==============================] - 0s 29us/step\n",
      "current time: 13\n",
      "309/309 [==============================] - 0s 63us/step\n",
      "current time: 14\n",
      "309/309 [==============================] - 0s 45us/step\n",
      "current time: 15\n",
      "309/309 [==============================] - 0s 41us/step\n",
      "current time: 16\n",
      "309/309 [==============================] - 0s 27us/step\n",
      "current time: 17\n",
      "309/309 [==============================] - 0s 29us/step\n",
      "current time: 18\n",
      "309/309 [==============================] - 0s 49us/step\n",
      "current time: 19\n",
      "309/309 [==============================] - 0s 24us/step\n",
      "current time: 20\n",
      "309/309 [==============================] - 0s 57us/step\n",
      "current time: 21\n",
      "309/309 [==============================] - 0s 68us/step\n",
      "current time: 22\n",
      "309/309 [==============================] - 0s 23us/step\n",
      "current time: 23\n",
      "309/309 [==============================] - 0s 53us/step\n",
      "current time: 24\n",
      "309/309 [==============================] - 0s 78us/step\n",
      "current time: 25\n",
      "309/309 [==============================] - 0s 59us/step\n",
      "current time: 26\n",
      "309/309 [==============================] - 0s 39us/step\n",
      "current time: 27\n",
      "309/309 [==============================] - 0s 30us/step\n",
      "current time: 28\n",
      "309/309 [==============================] - 0s 67us/step\n",
      "current time: 29\n",
      "309/309 [==============================] - 0s 49us/step\n",
      "current time: 30\n",
      "309/309 [==============================] - 0s 26us/step\n",
      "current time: 31\n",
      "309/309 [==============================] - 0s 66us/step\n",
      "current time: 32\n",
      "309/309 [==============================] - 0s 49us/step\n",
      "current time: 33\n",
      "309/309 [==============================] - 0s 31us/step\n",
      "current time: 34\n",
      "309/309 [==============================] - 0s 23us/step\n",
      "current time: 35\n",
      "309/309 [==============================] - 0s 29us/step\n",
      "current time: 36\n",
      "309/309 [==============================] - 0s 26us/step\n",
      "current time: 37\n",
      "309/309 [==============================] - 0s 34us/step\n",
      "current time: 38\n",
      "309/309 [==============================] - 0s 39us/step\n",
      "current time: 39\n",
      "309/309 [==============================] - 0s 26us/step\n",
      "current time: 40\n",
      "309/309 [==============================] - 0s 31us/step\n",
      "current time: 41\n",
      "309/309 [==============================] - 0s 42us/step\n",
      "current time: 42\n",
      "309/309 [==============================] - 0s 23us/step\n",
      "current time: 43\n",
      "309/309 [==============================] - 0s 54us/step\n",
      "current time: 44\n",
      "309/309 [==============================] - 0s 30us/step\n",
      "current time: 45\n",
      "309/309 [==============================] - 0s 29us/step\n",
      "current time: 46\n",
      "309/309 [==============================] - 0s 41us/step\n",
      "current time: 47\n",
      "309/309 [==============================] - 0s 33us/step\n",
      "current time: 48\n",
      "309/309 [==============================] - 0s 44us/step\n",
      "current time: 49\n",
      "309/309 [==============================] - 0s 56us/step\n",
      "done.\n"
     ]
    }
   ],
   "source": [
    "# 1. Randomly split the data into a training and test sets by holding 30% of the data for testing. \n",
    "# 2. Train the model on the training data using 50 epochs.\n",
    "# 3. Evaluate the model on the test data and compute the mean squared error between the predicted \n",
    "# concrete strength and the actual concrete strength.\n",
    "\n",
    "from sklearn.model_selection import train_test_split\n",
    "\n",
    "mse_table = np.zeros((50,1)) # have a record of the mse's\n",
    "\n",
    "for i in list(range(0,50)):\n",
    "    \n",
    "    print('current time: ' + str(i))\n",
    "    \n",
    "    X_train, X_test, y_train, y_test = \\\n",
    "    train_test_split(predictors_norm, target, test_size=0.3, random_state=0)\n",
    "    \n",
    "    # fit the model\n",
    "    model.fit(X_train, y_train, validation_split=0.0, epochs=50, verbose=0)\n",
    "    \n",
    "    # evaluate the model and return the mse on the test set\n",
    "    mse_table[i] = model.evaluate(X_test, y_test)\n",
    "\n",
    "print('done.')"
   ]
  },
  {
   "cell_type": "code",
   "execution_count": 16,
   "metadata": {},
   "outputs": [
    {
     "name": "stdout",
     "output_type": "stream",
     "text": [
      "[[167.9518681 ]\n",
      " [132.98827871]\n",
      " [116.57960824]\n",
      " [101.04976931]\n",
      " [ 84.64406198]\n",
      " [ 69.09929934]\n",
      " [ 58.95584008]\n",
      " [ 52.85087903]\n",
      " [ 48.53646016]\n",
      " [ 46.19246883]\n",
      " [ 45.22335572]\n",
      " [ 44.13600899]\n",
      " [ 43.424231  ]\n",
      " [ 42.88052168]\n",
      " [ 42.59521434]\n",
      " [ 42.2423886 ]\n",
      " [ 41.92506898]\n",
      " [ 41.64945428]\n",
      " [ 41.24443146]\n",
      " [ 40.95689945]\n",
      " [ 40.76575201]\n",
      " [ 40.4704558 ]\n",
      " [ 40.45223622]\n",
      " [ 40.3214194 ]\n",
      " [ 40.19761489]\n",
      " [ 40.04556627]\n",
      " [ 40.13731061]\n",
      " [ 39.91373431]\n",
      " [ 39.88579854]\n",
      " [ 39.90799558]\n",
      " [ 39.8936023 ]\n",
      " [ 39.91512526]\n",
      " [ 40.01159724]\n",
      " [ 39.91859064]\n",
      " [ 39.92704026]\n",
      " [ 40.04526796]\n",
      " [ 40.01760998]\n",
      " [ 39.99490181]\n",
      " [ 40.02682864]\n",
      " [ 39.9268776 ]\n",
      " [ 40.01415098]\n",
      " [ 40.07398239]\n",
      " [ 40.30467859]\n",
      " [ 40.25740346]\n",
      " [ 40.3268481 ]\n",
      " [ 40.21547356]\n",
      " [ 40.23234009]\n",
      " [ 40.12537735]\n",
      " [ 40.17545196]\n",
      " [ 40.16990943]]\n",
      "mean of the mse: 50.17594099026282\n",
      "std of the mse: 25.688452176037153\n"
     ]
    }
   ],
   "source": [
    "# print the mse's\n",
    "print(mse_table)\n",
    "\n",
    "# print the mean of the mse's\n",
    "print('mean of the mse: ' + str(np.mean(mse_table)))\n",
    "\n",
    "# print the standard deviation of the mse's\n",
    "print('std of the mse: ' + str(np.std(mse_table)))"
   ]
  },
  {
   "cell_type": "markdown",
   "metadata": {},
   "source": [
    "<a id=\"item33\"></a>"
   ]
  },
  {
   "cell_type": "markdown",
   "metadata": {},
   "source": [
    "### Discussion: Both MSE mean and std are smaller than those using un-normalized data.\n"
   ]
  },
  {
   "cell_type": "markdown",
   "metadata": {},
   "source": [
    "## Increase the number of epochs"
   ]
  },
  {
   "cell_type": "code",
   "execution_count": 17,
   "metadata": {},
   "outputs": [
    {
     "name": "stdout",
     "output_type": "stream",
     "text": [
      "current time: 0\n",
      "309/309 [==============================] - 0s 55us/step\n",
      "current time: 1\n",
      "309/309 [==============================] - 0s 45us/step\n",
      "current time: 2\n",
      "309/309 [==============================] - 0s 23us/step\n",
      "current time: 3\n",
      "309/309 [==============================] - 0s 23us/step\n",
      "current time: 4\n",
      "309/309 [==============================] - 0s 34us/step\n",
      "current time: 5\n",
      "309/309 [==============================] - 0s 78us/step\n",
      "current time: 6\n",
      "309/309 [==============================] - 0s 56us/step\n",
      "current time: 7\n",
      "309/309 [==============================] - 0s 23us/step\n",
      "current time: 8\n",
      "309/309 [==============================] - 0s 23us/step\n",
      "current time: 9\n",
      "309/309 [==============================] - 0s 58us/step\n",
      "current time: 10\n",
      "309/309 [==============================] - 0s 36us/step\n",
      "current time: 11\n",
      "309/309 [==============================] - 0s 48us/step\n",
      "current time: 12\n",
      "309/309 [==============================] - 0s 23us/step\n",
      "current time: 13\n",
      "309/309 [==============================] - 0s 26us/step\n",
      "current time: 14\n",
      "309/309 [==============================] - 0s 26us/step\n",
      "current time: 15\n",
      "309/309 [==============================] - 0s 36us/step\n",
      "current time: 16\n",
      "309/309 [==============================] - 0s 60us/step\n",
      "current time: 17\n",
      "309/309 [==============================] - 0s 35us/step\n",
      "current time: 18\n",
      "309/309 [==============================] - 0s 23us/step\n",
      "current time: 19\n",
      "309/309 [==============================] - 0s 23us/step\n",
      "current time: 20\n",
      "309/309 [==============================] - 0s 26us/step\n",
      "current time: 21\n",
      "309/309 [==============================] - 0s 23us/step\n",
      "current time: 22\n",
      "309/309 [==============================] - 0s 23us/step\n",
      "current time: 23\n",
      "309/309 [==============================] - 0s 23us/step\n",
      "current time: 24\n",
      "309/309 [==============================] - 0s 26us/step\n",
      "current time: 25\n",
      "309/309 [==============================] - 0s 23us/step\n",
      "current time: 26\n",
      "309/309 [==============================] - 0s 23us/step\n",
      "current time: 27\n",
      "309/309 [==============================] - 0s 23us/step\n",
      "current time: 28\n",
      "309/309 [==============================] - 0s 22us/step\n",
      "current time: 29\n",
      "309/309 [==============================] - 0s 23us/step\n",
      "current time: 30\n",
      "309/309 [==============================] - 0s 42us/step\n",
      "current time: 31\n",
      "309/309 [==============================] - 0s 23us/step\n",
      "current time: 32\n",
      "309/309 [==============================] - 0s 19us/step\n",
      "current time: 33\n",
      "309/309 [==============================] - 0s 26us/step\n",
      "current time: 34\n",
      "309/309 [==============================] - 0s 26us/step\n",
      "current time: 35\n",
      "309/309 [==============================] - 0s 23us/step\n",
      "current time: 36\n",
      "309/309 [==============================] - 0s 29us/step\n",
      "current time: 37\n",
      "309/309 [==============================] - 0s 19us/step\n",
      "current time: 38\n",
      "309/309 [==============================] - 0s 23us/step\n",
      "current time: 39\n",
      "309/309 [==============================] - 0s 23us/step\n",
      "current time: 40\n",
      "309/309 [==============================] - 0s 19us/step\n",
      "current time: 41\n",
      "309/309 [==============================] - 0s 23us/step\n",
      "current time: 42\n",
      "309/309 [==============================] - 0s 23us/step\n",
      "current time: 43\n",
      "309/309 [==============================] - 0s 23us/step\n",
      "current time: 44\n",
      "309/309 [==============================] - 0s 23us/step\n",
      "current time: 45\n",
      "309/309 [==============================] - 0s 23us/step\n",
      "current time: 46\n",
      "309/309 [==============================] - 0s 26us/step\n",
      "current time: 47\n",
      "309/309 [==============================] - 0s 23us/step\n",
      "current time: 48\n",
      "309/309 [==============================] - 0s 19us/step\n",
      "current time: 49\n",
      "309/309 [==============================] - 0s 23us/step\n",
      "done.\n"
     ]
    }
   ],
   "source": [
    "# 1. Randomly split the data into a training and test sets by holding 30% of the data for testing. \n",
    "# 2. Train the model on the training data using 100 epochs.\n",
    "# 3. Evaluate the model on the test data and compute the mean squared error between the predicted \n",
    "# concrete strength and the actual concrete strength.\n",
    "\n",
    "from sklearn.model_selection import train_test_split\n",
    "\n",
    "mse_table = np.zeros((50,1)) # have a record of the mse's\n",
    "\n",
    "for i in list(range(0,50)):\n",
    "    \n",
    "    print('current time: ' + str(i))\n",
    "    \n",
    "    X_train, X_test, y_train, y_test = \\\n",
    "    train_test_split(predictors_norm, target, test_size=0.3, random_state=0)\n",
    "    \n",
    "    # fit the model\n",
    "    model.fit(X_train, y_train, validation_split=0.0, epochs=100, verbose=0)\n",
    "    \n",
    "    # evaluate the model and return the mse on the test set\n",
    "    mse_table[i] = model.evaluate(X_test, y_test)\n",
    "    \n",
    "print('done.')"
   ]
  },
  {
   "cell_type": "code",
   "execution_count": 18,
   "metadata": {},
   "outputs": [
    {
     "name": "stdout",
     "output_type": "stream",
     "text": [
      "[[40.11584663]\n",
      " [39.9921439 ]\n",
      " [39.80493076]\n",
      " [39.94002751]\n",
      " [39.92657887]\n",
      " [39.92228251]\n",
      " [39.98547665]\n",
      " [40.06917567]\n",
      " [40.04190456]\n",
      " [39.92538505]\n",
      " [39.91664873]\n",
      " [39.92560081]\n",
      " [39.77770215]\n",
      " [39.87104129]\n",
      " [39.81081126]\n",
      " [39.90001172]\n",
      " [39.7586384 ]\n",
      " [39.83526768]\n",
      " [39.75003306]\n",
      " [39.80730714]\n",
      " [39.63542004]\n",
      " [39.59769917]\n",
      " [39.55280047]\n",
      " [39.50977566]\n",
      " [39.59567515]\n",
      " [39.50588783]\n",
      " [39.49870987]\n",
      " [39.52488744]\n",
      " [39.43835848]\n",
      " [39.45652962]\n",
      " [39.4401741 ]\n",
      " [39.36531762]\n",
      " [39.36681941]\n",
      " [39.34499215]\n",
      " [39.4411919 ]\n",
      " [39.19296541]\n",
      " [39.23653979]\n",
      " [39.31032212]\n",
      " [39.26770164]\n",
      " [39.26364679]\n",
      " [39.18143429]\n",
      " [39.15979427]\n",
      " [39.24932593]\n",
      " [39.11152711]\n",
      " [39.09737864]\n",
      " [38.95823826]\n",
      " [39.02990235]\n",
      " [39.01097229]\n",
      " [39.02481047]\n",
      " [38.92313268]]\n",
      "mean of the mse: 39.54737490607697\n",
      "std of the mse: 0.3370696440119986\n"
     ]
    }
   ],
   "source": [
    "# print the mse's\n",
    "print(mse_table)\n",
    "\n",
    "# print the mean of the mse's\n",
    "print('mean of the mse: ' + str(np.mean(mse_table)))\n",
    "\n",
    "# print the standard deviation of the mse's\n",
    "print('std of the mse: ' + str(np.std(mse_table)))"
   ]
  },
  {
   "cell_type": "markdown",
   "metadata": {},
   "source": [
    "<a id=\"item34\"></a>"
   ]
  },
  {
   "cell_type": "markdown",
   "metadata": {},
   "source": [
    "### Discussion: MSE mean and std are significantly smaller than those using un-normalized data and those using normailized data."
   ]
  },
  {
   "cell_type": "markdown",
   "metadata": {},
   "source": [
    "## Increase the number of hidden layers"
   ]
  },
  {
   "cell_type": "code",
   "execution_count": 19,
   "metadata": {},
   "outputs": [],
   "source": [
    "# define regression model\n",
    "\n",
    "#- Three hidden layers, each of 10 nodes and a ReLU activation function\n",
    "\n",
    "#- Use the adam optimizer and the mean squared error as the loss function.\n",
    "\n",
    "def regression_model():\n",
    "    # create model\n",
    "    model = Sequential()\n",
    "    model.add(Dense(10, activation='relu', input_shape=(n_cols,)))\n",
    "    model.add(Dense(10, activation='relu'))\n",
    "    model.add(Dense(10, activation='relu'))\n",
    "    model.add(Dense(1))\n",
    "    \n",
    "    # compile model\n",
    "    model.compile(optimizer='adam', loss='mean_squared_error')\n",
    "    return model"
   ]
  },
  {
   "cell_type": "code",
   "execution_count": 20,
   "metadata": {},
   "outputs": [
    {
     "name": "stdout",
     "output_type": "stream",
     "text": [
      "current time: 0\n",
      "309/309 [==============================] - 0s 51us/step\n",
      "current time: 1\n",
      "309/309 [==============================] - 0s 23us/step\n",
      "current time: 2\n",
      "309/309 [==============================] - 0s 23us/step\n",
      "current time: 3\n",
      "309/309 [==============================] - 0s 23us/step\n",
      "current time: 4\n",
      "309/309 [==============================] - 0s 23us/step\n",
      "current time: 5\n",
      "309/309 [==============================] - 0s 23us/step\n",
      "current time: 6\n",
      "309/309 [==============================] - 0s 23us/step\n",
      "current time: 7\n",
      "309/309 [==============================] - 0s 23us/step\n",
      "current time: 8\n",
      "309/309 [==============================] - 0s 26us/step\n",
      "current time: 9\n",
      "309/309 [==============================] - 0s 23us/step\n",
      "current time: 10\n",
      "309/309 [==============================] - 0s 32us/step\n",
      "current time: 11\n",
      "309/309 [==============================] - 0s 23us/step\n",
      "current time: 12\n",
      "309/309 [==============================] - 0s 23us/step\n",
      "current time: 13\n",
      "309/309 [==============================] - 0s 26us/step\n",
      "current time: 14\n",
      "309/309 [==============================] - 0s 23us/step\n",
      "current time: 15\n",
      "309/309 [==============================] - 0s 23us/step\n",
      "current time: 16\n",
      "309/309 [==============================] - 0s 32us/step\n",
      "current time: 17\n",
      "309/309 [==============================] - 0s 23us/step\n",
      "current time: 18\n",
      "309/309 [==============================] - 0s 19us/step\n",
      "current time: 19\n",
      "309/309 [==============================] - 0s 26us/step\n",
      "current time: 20\n",
      "309/309 [==============================] - 0s 23us/step\n",
      "current time: 21\n",
      "309/309 [==============================] - 0s 23us/step\n",
      "current time: 22\n",
      "309/309 [==============================] - 0s 26us/step\n",
      "current time: 23\n",
      "309/309 [==============================] - 0s 23us/step\n",
      "current time: 24\n",
      "309/309 [==============================] - 0s 23us/step\n",
      "current time: 25\n",
      "309/309 [==============================] - 0s 23us/step\n",
      "current time: 26\n",
      "309/309 [==============================] - 0s 23us/step\n",
      "current time: 27\n",
      "309/309 [==============================] - 0s 23us/step\n",
      "current time: 28\n",
      "309/309 [==============================] - 0s 23us/step\n",
      "current time: 29\n",
      "309/309 [==============================] - 0s 26us/step\n",
      "current time: 30\n",
      "309/309 [==============================] - 0s 23us/step\n",
      "current time: 31\n",
      "309/309 [==============================] - 0s 23us/step\n",
      "current time: 32\n",
      "309/309 [==============================] - 0s 23us/step\n",
      "current time: 33\n",
      "309/309 [==============================] - 0s 23us/step\n",
      "current time: 34\n",
      "309/309 [==============================] - 0s 23us/step\n",
      "current time: 35\n",
      "309/309 [==============================] - 0s 23us/step\n",
      "current time: 36\n",
      "309/309 [==============================] - 0s 23us/step\n",
      "current time: 37\n",
      "309/309 [==============================] - 0s 26us/step\n",
      "current time: 38\n",
      "309/309 [==============================] - 0s 23us/step\n",
      "current time: 39\n",
      "309/309 [==============================] - 0s 26us/step\n",
      "current time: 40\n",
      "309/309 [==============================] - 0s 26us/step\n",
      "current time: 41\n",
      "309/309 [==============================] - 0s 23us/step\n",
      "current time: 42\n",
      "309/309 [==============================] - 0s 29us/step\n",
      "current time: 43\n",
      "309/309 [==============================] - 0s 23us/step\n",
      "current time: 44\n",
      "309/309 [==============================] - 0s 23us/step\n",
      "current time: 45\n",
      "309/309 [==============================] - 0s 19us/step\n",
      "current time: 46\n",
      "309/309 [==============================] - 0s 23us/step\n",
      "current time: 47\n",
      "309/309 [==============================] - 0s 29us/step\n",
      "current time: 48\n",
      "309/309 [==============================] - 0s 19us/step\n",
      "current time: 49\n",
      "309/309 [==============================] - 0s 23us/step\n",
      "done.\n"
     ]
    }
   ],
   "source": [
    "# 1. Randomly split the data into a training and test sets by holding 30% of the data for testing. \n",
    "# 2. Train the model on the training data using 50 epochs.\n",
    "# 3. Evaluate the model on the test data and compute the mean squared error between the predicted \n",
    "# concrete strength and the actual concrete strength.\n",
    "\n",
    "from sklearn.model_selection import train_test_split\n",
    "\n",
    "mse_table = np.zeros((50,1)) # have a record of the mse's\n",
    "\n",
    "for i in list(range(0,50)):\n",
    "    \n",
    "    print('current time: ' + str(i))\n",
    "    \n",
    "    X_train, X_test, y_train, y_test = \\\n",
    "    train_test_split(predictors_norm, target, test_size=0.3, random_state=0)\n",
    "    \n",
    "    # fit the model\n",
    "    model.fit(X_train, y_train, validation_split=0.0, epochs=50, verbose=0)\n",
    "    \n",
    "    # evaluate the model and return the mse on the test set\n",
    "    mse_table[i] = model.evaluate(X_test, y_test)\n",
    "    \n",
    "print('done.')"
   ]
  },
  {
   "cell_type": "code",
   "execution_count": 21,
   "metadata": {},
   "outputs": [
    {
     "name": "stdout",
     "output_type": "stream",
     "text": [
      "[[38.74817507]\n",
      " [38.95881716]\n",
      " [38.94961413]\n",
      " [38.94599857]\n",
      " [38.84314993]\n",
      " [38.83217354]\n",
      " [38.89511436]\n",
      " [38.80580129]\n",
      " [38.85097636]\n",
      " [38.69492351]\n",
      " [38.81764095]\n",
      " [38.4812525 ]\n",
      " [38.7147831 ]\n",
      " [38.76531329]\n",
      " [38.8358108 ]\n",
      " [38.75441912]\n",
      " [38.65910897]\n",
      " [38.66497609]\n",
      " [38.66189781]\n",
      " [38.68308436]\n",
      " [38.67044093]\n",
      " [38.52773711]\n",
      " [38.74128968]\n",
      " [38.58107279]\n",
      " [38.23408634]\n",
      " [38.07430355]\n",
      " [38.14818446]\n",
      " [38.01040153]\n",
      " [38.11823411]\n",
      " [38.09484694]\n",
      " [38.04355105]\n",
      " [38.13669681]\n",
      " [38.00509053]\n",
      " [38.13696711]\n",
      " [38.1260553 ]\n",
      " [38.18625829]\n",
      " [38.08775601]\n",
      " [38.23475462]\n",
      " [38.31387807]\n",
      " [38.40637535]\n",
      " [38.21075711]\n",
      " [38.37522882]\n",
      " [38.2130503 ]\n",
      " [38.1027885 ]\n",
      " [38.14370361]\n",
      " [38.15707257]\n",
      " [38.29744956]\n",
      " [38.19747679]\n",
      " [38.14555117]\n",
      " [38.26039036]]\n",
      "mean of the mse: 38.450889605920295\n",
      "std of the mse: 0.31168744239076657\n"
     ]
    }
   ],
   "source": [
    "# print the mse's\n",
    "print(mse_table)\n",
    "\n",
    "# print the mean of the mse's\n",
    "print('mean of the mse: ' + str(np.mean(mse_table)))\n",
    "\n",
    "# print the standard deviation of the mse's\n",
    "print('std of the mse: ' + str(np.std(mse_table)))"
   ]
  },
  {
   "cell_type": "markdown",
   "metadata": {},
   "source": [
    "### Discussion: MSE mean and std are significantly smaller than those using un-normalized data and those using normailized data. Further, they are slightly smaller than those using normalized data and trained with 100 epochs instead of 50 epochs."
   ]
  }
 ],
 "metadata": {
  "kernelspec": {
   "display_name": "Python 3",
   "language": "python",
   "name": "python3"
  },
  "language_info": {
   "codemirror_mode": {
    "name": "ipython",
    "version": 3
   },
   "file_extension": ".py",
   "mimetype": "text/x-python",
   "name": "python",
   "nbconvert_exporter": "python",
   "pygments_lexer": "ipython3",
   "version": "3.7.3"
  }
 },
 "nbformat": 4,
 "nbformat_minor": 4
}
