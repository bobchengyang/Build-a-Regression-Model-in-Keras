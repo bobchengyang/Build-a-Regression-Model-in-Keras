{
 "cells": [
  {
   "cell_type": "markdown",
   "metadata": {
    "button": false,
    "new_sheet": false,
    "run_control": {
     "read_only": false
    }
   },
   "source": [
    "<h1 align=center><font size = 5>Build a Regression Model in Keras Assignment</font></h1>"
   ]
  },
  {
   "cell_type": "markdown",
   "metadata": {
    "button": false,
    "new_sheet": false,
    "run_control": {
     "read_only": false
    }
   },
   "source": [
    "## Table of Contents\n",
    "\n",
    "<div class=\"alert alert-block alert-info\" style=\"margin-top: 20px\">\n",
    "\n",
    "<font size = 3>\n",
    "    \n",
    "1. <a href=\"#item31\">Build a baseline model</a>  \n",
    "2. <a href=\"#item32\">Normalize the data</a>  \n",
    "3. <a href=\"#item33\">Increase the number of epochs</a>  \n",
    "4. <a href=\"#item34\">Increase the number of hidden layers</a>  \n",
    "\n",
    "</font>\n",
    "</div>"
   ]
  },
  {
   "cell_type": "markdown",
   "metadata": {
    "button": false,
    "new_sheet": false,
    "run_control": {
     "read_only": false
    }
   },
   "source": [
    "<a id=\"item31\"></a>"
   ]
  },
  {
   "cell_type": "markdown",
   "metadata": {
    "button": false,
    "new_sheet": false,
    "run_control": {
     "read_only": false
    }
   },
   "source": [
    "## Build a base line model"
   ]
  },
  {
   "cell_type": "code",
   "execution_count": 1,
   "metadata": {
    "button": false,
    "new_sheet": false,
    "run_control": {
     "read_only": false
    }
   },
   "outputs": [],
   "source": [
    "# import basic libraries\n",
    "import pandas as pd\n",
    "import numpy as np"
   ]
  },
  {
   "cell_type": "code",
   "execution_count": 2,
   "metadata": {},
   "outputs": [],
   "source": [
    "# download data\n",
    "concrete_data = pd.read_csv('https://s3-api.us-geo.objectstorage.softlayer.net/cf-courses-data/CognitiveClass/DL0101EN/labs/data/concrete_data.csv')"
   ]
  },
  {
   "cell_type": "code",
   "execution_count": 3,
   "metadata": {},
   "outputs": [
    {
     "data": {
      "text/plain": [
       "(1030, 9)"
      ]
     },
     "execution_count": 3,
     "metadata": {},
     "output_type": "execute_result"
    }
   ],
   "source": [
    "# check data shape\n",
    "concrete_data.shape"
   ]
  },
  {
   "cell_type": "code",
   "execution_count": 4,
   "metadata": {},
   "outputs": [
    {
     "data": {
      "text/plain": [
       "Cement                0\n",
       "Blast Furnace Slag    0\n",
       "Fly Ash               0\n",
       "Water                 0\n",
       "Superplasticizer      0\n",
       "Coarse Aggregate      0\n",
       "Fine Aggregate        0\n",
       "Age                   0\n",
       "Strength              0\n",
       "dtype: int64"
      ]
     },
     "execution_count": 4,
     "metadata": {},
     "output_type": "execute_result"
    }
   ],
   "source": [
    "# check missing values\n",
    "concrete_data.isnull().sum()"
   ]
  },
  {
   "cell_type": "code",
   "execution_count": 5,
   "metadata": {
    "button": false,
    "new_sheet": false,
    "run_control": {
     "read_only": false
    }
   },
   "outputs": [],
   "source": [
    "# split data into predictors and target\n",
    "concrete_data_columns = concrete_data.columns\n",
    "predictors = concrete_data[concrete_data_columns[concrete_data_columns != 'Strength']] # all columns except Strength\n",
    "target = concrete_data['Strength'] # Strength column"
   ]
  },
  {
   "cell_type": "code",
   "execution_count": 6,
   "metadata": {
    "button": false,
    "new_sheet": false,
    "run_control": {
     "read_only": false
    }
   },
   "outputs": [
    {
     "data": {
      "text/html": [
       "<div>\n",
       "<style scoped>\n",
       "    .dataframe tbody tr th:only-of-type {\n",
       "        vertical-align: middle;\n",
       "    }\n",
       "\n",
       "    .dataframe tbody tr th {\n",
       "        vertical-align: top;\n",
       "    }\n",
       "\n",
       "    .dataframe thead th {\n",
       "        text-align: right;\n",
       "    }\n",
       "</style>\n",
       "<table border=\"1\" class=\"dataframe\">\n",
       "  <thead>\n",
       "    <tr style=\"text-align: right;\">\n",
       "      <th></th>\n",
       "      <th>Cement</th>\n",
       "      <th>Blast Furnace Slag</th>\n",
       "      <th>Fly Ash</th>\n",
       "      <th>Water</th>\n",
       "      <th>Superplasticizer</th>\n",
       "      <th>Coarse Aggregate</th>\n",
       "      <th>Fine Aggregate</th>\n",
       "      <th>Age</th>\n",
       "    </tr>\n",
       "  </thead>\n",
       "  <tbody>\n",
       "    <tr>\n",
       "      <th>0</th>\n",
       "      <td>540.0</td>\n",
       "      <td>0.0</td>\n",
       "      <td>0.0</td>\n",
       "      <td>162.0</td>\n",
       "      <td>2.5</td>\n",
       "      <td>1040.0</td>\n",
       "      <td>676.0</td>\n",
       "      <td>28</td>\n",
       "    </tr>\n",
       "    <tr>\n",
       "      <th>1</th>\n",
       "      <td>540.0</td>\n",
       "      <td>0.0</td>\n",
       "      <td>0.0</td>\n",
       "      <td>162.0</td>\n",
       "      <td>2.5</td>\n",
       "      <td>1055.0</td>\n",
       "      <td>676.0</td>\n",
       "      <td>28</td>\n",
       "    </tr>\n",
       "    <tr>\n",
       "      <th>2</th>\n",
       "      <td>332.5</td>\n",
       "      <td>142.5</td>\n",
       "      <td>0.0</td>\n",
       "      <td>228.0</td>\n",
       "      <td>0.0</td>\n",
       "      <td>932.0</td>\n",
       "      <td>594.0</td>\n",
       "      <td>270</td>\n",
       "    </tr>\n",
       "    <tr>\n",
       "      <th>3</th>\n",
       "      <td>332.5</td>\n",
       "      <td>142.5</td>\n",
       "      <td>0.0</td>\n",
       "      <td>228.0</td>\n",
       "      <td>0.0</td>\n",
       "      <td>932.0</td>\n",
       "      <td>594.0</td>\n",
       "      <td>365</td>\n",
       "    </tr>\n",
       "    <tr>\n",
       "      <th>4</th>\n",
       "      <td>198.6</td>\n",
       "      <td>132.4</td>\n",
       "      <td>0.0</td>\n",
       "      <td>192.0</td>\n",
       "      <td>0.0</td>\n",
       "      <td>978.4</td>\n",
       "      <td>825.5</td>\n",
       "      <td>360</td>\n",
       "    </tr>\n",
       "  </tbody>\n",
       "</table>\n",
       "</div>"
      ],
      "text/plain": [
       "   Cement  Blast Furnace Slag  Fly Ash  Water  Superplasticizer  \\\n",
       "0   540.0                 0.0      0.0  162.0               2.5   \n",
       "1   540.0                 0.0      0.0  162.0               2.5   \n",
       "2   332.5               142.5      0.0  228.0               0.0   \n",
       "3   332.5               142.5      0.0  228.0               0.0   \n",
       "4   198.6               132.4      0.0  192.0               0.0   \n",
       "\n",
       "   Coarse Aggregate  Fine Aggregate  Age  \n",
       "0            1040.0           676.0   28  \n",
       "1            1055.0           676.0   28  \n",
       "2             932.0           594.0  270  \n",
       "3             932.0           594.0  365  \n",
       "4             978.4           825.5  360  "
      ]
     },
     "execution_count": 6,
     "metadata": {},
     "output_type": "execute_result"
    }
   ],
   "source": [
    "# sanity check predictor\n",
    "predictors.head()"
   ]
  },
  {
   "cell_type": "code",
   "execution_count": 7,
   "metadata": {
    "button": false,
    "new_sheet": false,
    "run_control": {
     "read_only": false
    }
   },
   "outputs": [
    {
     "data": {
      "text/plain": [
       "0    79.99\n",
       "1    61.89\n",
       "2    40.27\n",
       "3    41.05\n",
       "4    44.30\n",
       "Name: Strength, dtype: float64"
      ]
     },
     "execution_count": 7,
     "metadata": {},
     "output_type": "execute_result"
    }
   ],
   "source": [
    "# sanity check target\n",
    "target.head()"
   ]
  },
  {
   "cell_type": "code",
   "execution_count": 12,
   "metadata": {
    "button": false,
    "new_sheet": false,
    "run_control": {
     "read_only": false
    }
   },
   "outputs": [
    {
     "data": {
      "text/plain": [
       "8"
      ]
     },
     "execution_count": 12,
     "metadata": {},
     "output_type": "execute_result"
    }
   ],
   "source": [
    "# number of predictors, which is to be used in building Keras networks\n",
    "n_cols = predictors.shape[1]\n",
    "n_cols"
   ]
  },
  {
   "cell_type": "code",
   "execution_count": 13,
   "metadata": {
    "button": false,
    "new_sheet": false,
    "run_control": {
     "read_only": false
    }
   },
   "outputs": [],
   "source": [
    "# import keras-related libraries\n",
    "import keras\n",
    "from keras.models import Sequential\n",
    "from keras.layers import Dense"
   ]
  },
  {
   "cell_type": "code",
   "execution_count": 14,
   "metadata": {
    "button": false,
    "new_sheet": false,
    "run_control": {
     "read_only": false
    }
   },
   "outputs": [],
   "source": [
    "# define regression model\n",
    "\n",
    "#- One hidden layer of 10 nodes, and a ReLU activation function\n",
    "\n",
    "#- Use the adam optimizer and the mean squared error as the loss function.\n",
    "\n",
    "def regression_model():\n",
    "    # create model\n",
    "    model = Sequential()\n",
    "    model.add(Dense(10, activation='relu', input_shape=(n_cols,)))\n",
    "    model.add(Dense(1))\n",
    "    \n",
    "    # compile model\n",
    "    model.compile(optimizer='adam', loss='mean_squared_error')\n",
    "    return model"
   ]
  },
  {
   "cell_type": "code",
   "execution_count": 15,
   "metadata": {
    "button": false,
    "new_sheet": false,
    "run_control": {
     "read_only": false
    }
   },
   "outputs": [
    {
     "name": "stdout",
     "output_type": "stream",
     "text": [
      "WARNING:tensorflow:From C:\\Anaconda3\\envs\\bobcy\\lib\\site-packages\\tensorflow\\python\\framework\\op_def_library.py:263: colocate_with (from tensorflow.python.framework.ops) is deprecated and will be removed in a future version.\n",
      "Instructions for updating:\n",
      "Colocations handled automatically by placer.\n"
     ]
    }
   ],
   "source": [
    "# build the model\n",
    "model = regression_model()"
   ]
  },
  {
   "cell_type": "code",
   "execution_count": 18,
   "metadata": {},
   "outputs": [
    {
     "name": "stdout",
     "output_type": "stream",
     "text": [
      "current time: 0\n",
      "309/309 [==============================] - 0s 23us/step\n",
      "current time: 1\n",
      "309/309 [==============================] - 0s 26us/step\n",
      "current time: 2\n",
      "309/309 [==============================] - 0s 23us/step\n",
      "current time: 3\n",
      "309/309 [==============================] - 0s 26us/step\n",
      "current time: 4\n",
      "309/309 [==============================] - 0s 26us/step\n",
      "current time: 5\n",
      "309/309 [==============================] - 0s 26us/step\n",
      "current time: 6\n",
      "309/309 [==============================] - 0s 26us/step\n",
      "current time: 7\n",
      "309/309 [==============================] - 0s 23us/step\n",
      "current time: 8\n",
      "309/309 [==============================] - 0s 26us/step\n",
      "current time: 9\n",
      "309/309 [==============================] - 0s 26us/step\n",
      "current time: 10\n",
      "309/309 [==============================] - 0s 26us/step\n",
      "current time: 11\n",
      "309/309 [==============================] - 0s 26us/step\n",
      "current time: 12\n",
      "309/309 [==============================] - 0s 26us/step\n",
      "current time: 13\n",
      "309/309 [==============================] - 0s 29us/step\n",
      "current time: 14\n",
      "309/309 [==============================] - 0s 24us/step\n",
      "current time: 15\n",
      "309/309 [==============================] - 0s 59us/step\n",
      "current time: 16\n",
      "309/309 [==============================] - 0s 43us/step\n",
      "current time: 17\n",
      "309/309 [==============================] - 0s 66us/step\n",
      "current time: 18\n",
      "309/309 [==============================] - 0s 65us/step\n",
      "current time: 19\n",
      "309/309 [==============================] - 0s 35us/step\n",
      "current time: 20\n",
      "309/309 [==============================] - 0s 26us/step\n",
      "current time: 21\n",
      "309/309 [==============================] - 0s 56us/step\n",
      "current time: 22\n",
      "309/309 [==============================] - 0s 29us/step\n",
      "current time: 23\n",
      "309/309 [==============================] - 0s 23us/step\n",
      "current time: 24\n",
      "309/309 [==============================] - 0s 23us/step\n",
      "current time: 25\n",
      "309/309 [==============================] - 0s 26us/step\n",
      "current time: 26\n",
      "309/309 [==============================] - 0s 23us/step\n",
      "current time: 27\n",
      "309/309 [==============================] - 0s 23us/step\n",
      "current time: 28\n",
      "309/309 [==============================] - 0s 26us/step\n",
      "current time: 29\n",
      "309/309 [==============================] - 0s 26us/step\n",
      "current time: 30\n",
      "309/309 [==============================] - 0s 51us/step\n",
      "current time: 31\n",
      "309/309 [==============================] - 0s 23us/step\n",
      "current time: 32\n",
      "309/309 [==============================] - 0s 53us/step\n",
      "current time: 33\n",
      "309/309 [==============================] - 0s 69us/step\n",
      "current time: 34\n",
      "309/309 [==============================] - 0s 72us/step\n",
      "current time: 35\n",
      "309/309 [==============================] - 0s 23us/step\n",
      "current time: 36\n",
      "309/309 [==============================] - 0s 26us/step\n",
      "current time: 37\n",
      "309/309 [==============================] - 0s 26us/step\n",
      "current time: 38\n",
      "309/309 [==============================] - 0s 36us/step\n",
      "current time: 39\n",
      "309/309 [==============================] - 0s 36us/step\n",
      "current time: 40\n",
      "309/309 [==============================] - 0s 36us/step\n",
      "current time: 41\n",
      "309/309 [==============================] - 0s 44us/step\n",
      "current time: 42\n",
      "309/309 [==============================] - 0s 26us/step\n",
      "current time: 43\n",
      "309/309 [==============================] - 0s 45us/step\n",
      "current time: 44\n",
      "309/309 [==============================] - 0s 26us/step\n",
      "current time: 45\n",
      "309/309 [==============================] - 0s 23us/step\n",
      "current time: 46\n",
      "309/309 [==============================] - 0s 29us/step\n",
      "current time: 47\n",
      "309/309 [==============================] - 0s 25us/step\n",
      "current time: 48\n",
      "309/309 [==============================] - 0s 66us/step\n",
      "current time: 49\n",
      "309/309 [==============================] - 0s 26us/step\n",
      "done.\n"
     ]
    }
   ],
   "source": [
    "# 1. Randomly split the data into a training and test sets by holding 30% of the data for testing. \n",
    "# 2. Train the model on the training data using 50 epochs.\n",
    "# 3. Evaluate the model on the test data and compute the mean squared error between the predicted \n",
    "# concrete strength and the actual concrete strength.\n",
    "\n",
    "from sklearn.model_selection import train_test_split\n",
    "\n",
    "mse_table = np.zeros((50,1)) # have a record of the mse's\n",
    "\n",
    "for i in list(range(0,50)):\n",
    "    \n",
    "    print('current time: ' + str(i))\n",
    "    \n",
    "    X_train, X_test, y_train, y_test = \\\n",
    "    train_test_split(predictors, target, test_size=0.3, random_state=i)\n",
    "    \n",
    "    # fit the model\n",
    "    model.fit(X_train, y_train, validation_split=0.0, epochs=50, verbose=0)\n",
    "    \n",
    "    # evaluate the model and return the mse on the test set\n",
    "    mse_table[i] = model.evaluate(X_test, y_test)\n",
    "\n",
    "print('done.')"
   ]
  },
  {
   "cell_type": "code",
   "execution_count": 19,
   "metadata": {},
   "outputs": [
    {
     "name": "stdout",
     "output_type": "stream",
     "text": [
      "[[44.4930257 ]\n",
      " [50.48800163]\n",
      " [44.37067442]\n",
      " [41.8192769 ]\n",
      " [43.09713009]\n",
      " [45.0142261 ]\n",
      " [53.07830001]\n",
      " [39.68466466]\n",
      " [42.27877089]\n",
      " [45.21820382]\n",
      " [39.85126453]\n",
      " [39.63726427]\n",
      " [48.22372788]\n",
      " [44.36445199]\n",
      " [48.04275926]\n",
      " [37.74503427]\n",
      " [41.47348177]\n",
      " [44.80029953]\n",
      " [45.27498849]\n",
      " [40.4304763 ]\n",
      " [40.59792718]\n",
      " [39.55396523]\n",
      " [37.7769045 ]\n",
      " [45.19674433]\n",
      " [43.87930988]\n",
      " [43.81848517]\n",
      " [46.32490991]\n",
      " [38.28360272]\n",
      " [46.16899743]\n",
      " [53.30444278]\n",
      " [44.28274989]\n",
      " [36.05839036]\n",
      " [40.2359093 ]\n",
      " [43.74525878]\n",
      " [40.59942178]\n",
      " [45.66961888]\n",
      " [45.6902727 ]\n",
      " [50.28032013]\n",
      " [56.67422425]\n",
      " [37.05591965]\n",
      " [46.59170809]\n",
      " [49.40053618]\n",
      " [43.709228  ]\n",
      " [47.32735752]\n",
      " [45.47037714]\n",
      " [48.22743156]\n",
      " [47.70869982]\n",
      " [50.67194436]\n",
      " [47.76253607]\n",
      " [48.17111138]]\n",
      "mean of the mse: 44.592486549179924\n",
      "std of the mse: 4.401765402456632\n"
     ]
    }
   ],
   "source": [
    "# print the mse's\n",
    "print(mse_table)\n",
    "\n",
    "# print the mean of the mse's\n",
    "print('mean of the mse: ' + str(np.mean(mse_table)))\n",
    "\n",
    "# print the standard deviation of the mse's\n",
    "print('std of the mse: ' + str(np.std(mse_table)))"
   ]
  },
  {
   "cell_type": "markdown",
   "metadata": {},
   "source": [
    "<a id=\"item32\"></a>"
   ]
  },
  {
   "cell_type": "markdown",
   "metadata": {},
   "source": [
    "## Normalize the data"
   ]
  },
  {
   "cell_type": "code",
   "execution_count": 20,
   "metadata": {},
   "outputs": [
    {
     "data": {
      "text/html": [
       "<div>\n",
       "<style scoped>\n",
       "    .dataframe tbody tr th:only-of-type {\n",
       "        vertical-align: middle;\n",
       "    }\n",
       "\n",
       "    .dataframe tbody tr th {\n",
       "        vertical-align: top;\n",
       "    }\n",
       "\n",
       "    .dataframe thead th {\n",
       "        text-align: right;\n",
       "    }\n",
       "</style>\n",
       "<table border=\"1\" class=\"dataframe\">\n",
       "  <thead>\n",
       "    <tr style=\"text-align: right;\">\n",
       "      <th></th>\n",
       "      <th>Cement</th>\n",
       "      <th>Blast Furnace Slag</th>\n",
       "      <th>Fly Ash</th>\n",
       "      <th>Water</th>\n",
       "      <th>Superplasticizer</th>\n",
       "      <th>Coarse Aggregate</th>\n",
       "      <th>Fine Aggregate</th>\n",
       "      <th>Age</th>\n",
       "    </tr>\n",
       "  </thead>\n",
       "  <tbody>\n",
       "    <tr>\n",
       "      <th>0</th>\n",
       "      <td>2.476712</td>\n",
       "      <td>-0.856472</td>\n",
       "      <td>-0.846733</td>\n",
       "      <td>-0.916319</td>\n",
       "      <td>-0.620147</td>\n",
       "      <td>0.862735</td>\n",
       "      <td>-1.217079</td>\n",
       "      <td>-0.279597</td>\n",
       "    </tr>\n",
       "    <tr>\n",
       "      <th>1</th>\n",
       "      <td>2.476712</td>\n",
       "      <td>-0.856472</td>\n",
       "      <td>-0.846733</td>\n",
       "      <td>-0.916319</td>\n",
       "      <td>-0.620147</td>\n",
       "      <td>1.055651</td>\n",
       "      <td>-1.217079</td>\n",
       "      <td>-0.279597</td>\n",
       "    </tr>\n",
       "    <tr>\n",
       "      <th>2</th>\n",
       "      <td>0.491187</td>\n",
       "      <td>0.795140</td>\n",
       "      <td>-0.846733</td>\n",
       "      <td>2.174405</td>\n",
       "      <td>-1.038638</td>\n",
       "      <td>-0.526262</td>\n",
       "      <td>-2.239829</td>\n",
       "      <td>3.551340</td>\n",
       "    </tr>\n",
       "    <tr>\n",
       "      <th>3</th>\n",
       "      <td>0.491187</td>\n",
       "      <td>0.795140</td>\n",
       "      <td>-0.846733</td>\n",
       "      <td>2.174405</td>\n",
       "      <td>-1.038638</td>\n",
       "      <td>-0.526262</td>\n",
       "      <td>-2.239829</td>\n",
       "      <td>5.055221</td>\n",
       "    </tr>\n",
       "    <tr>\n",
       "      <th>4</th>\n",
       "      <td>-0.790075</td>\n",
       "      <td>0.678079</td>\n",
       "      <td>-0.846733</td>\n",
       "      <td>0.488555</td>\n",
       "      <td>-1.038638</td>\n",
       "      <td>0.070492</td>\n",
       "      <td>0.647569</td>\n",
       "      <td>4.976069</td>\n",
       "    </tr>\n",
       "  </tbody>\n",
       "</table>\n",
       "</div>"
      ],
      "text/plain": [
       "     Cement  Blast Furnace Slag   Fly Ash     Water  Superplasticizer  \\\n",
       "0  2.476712           -0.856472 -0.846733 -0.916319         -0.620147   \n",
       "1  2.476712           -0.856472 -0.846733 -0.916319         -0.620147   \n",
       "2  0.491187            0.795140 -0.846733  2.174405         -1.038638   \n",
       "3  0.491187            0.795140 -0.846733  2.174405         -1.038638   \n",
       "4 -0.790075            0.678079 -0.846733  0.488555         -1.038638   \n",
       "\n",
       "   Coarse Aggregate  Fine Aggregate       Age  \n",
       "0          0.862735       -1.217079 -0.279597  \n",
       "1          1.055651       -1.217079 -0.279597  \n",
       "2         -0.526262       -2.239829  3.551340  \n",
       "3         -0.526262       -2.239829  5.055221  \n",
       "4          0.070492        0.647569  4.976069  "
      ]
     },
     "execution_count": 20,
     "metadata": {},
     "output_type": "execute_result"
    }
   ],
   "source": [
    "# data normalization\n",
    "predictors_norm = (predictors - predictors.mean()) / predictors.std()\n",
    "predictors_norm.head()"
   ]
  },
  {
   "cell_type": "code",
   "execution_count": 21,
   "metadata": {},
   "outputs": [
    {
     "name": "stdout",
     "output_type": "stream",
     "text": [
      "current time: 0\n",
      "309/309 [==============================] - 0s 38us/step\n",
      "current time: 1\n",
      "309/309 [==============================] - 0s 26us/step\n",
      "current time: 2\n",
      "309/309 [==============================] - 0s 32us/step\n",
      "current time: 3\n",
      "309/309 [==============================] - 0s 26us/step\n",
      "current time: 4\n",
      "309/309 [==============================] - 0s 23us/step\n",
      "current time: 5\n",
      "309/309 [==============================] - 0s 29us/step\n",
      "current time: 6\n",
      "309/309 [==============================] - 0s 29us/step\n",
      "current time: 7\n",
      "309/309 [==============================] - 0s 36us/step\n",
      "current time: 8\n",
      "309/309 [==============================] - 0s 26us/step\n",
      "current time: 9\n",
      "309/309 [==============================] - 0s 26us/step\n",
      "current time: 10\n",
      "309/309 [==============================] - 0s 26us/step\n",
      "current time: 11\n",
      "309/309 [==============================] - 0s 39us/step\n",
      "current time: 12\n",
      "309/309 [==============================] - 0s 26us/step\n",
      "current time: 13\n",
      "309/309 [==============================] - 0s 26us/step\n",
      "current time: 14\n",
      "309/309 [==============================] - 0s 26us/step\n",
      "current time: 15\n",
      "309/309 [==============================] - 0s 39us/step\n",
      "current time: 16\n",
      "309/309 [==============================] - 0s 23us/step\n",
      "current time: 17\n",
      "309/309 [==============================] - 0s 32us/step\n",
      "current time: 18\n",
      "309/309 [==============================] - 0s 23us/step\n",
      "current time: 19\n",
      "309/309 [==============================] - 0s 23us/step\n",
      "current time: 20\n",
      "309/309 [==============================] - 0s 26us/step\n",
      "current time: 21\n",
      "309/309 [==============================] - 0s 26us/step\n",
      "current time: 22\n",
      "309/309 [==============================] - 0s 23us/step\n",
      "current time: 23\n",
      "309/309 [==============================] - 0s 81us/step\n",
      "current time: 24\n",
      "309/309 [==============================] - 0s 23us/step\n",
      "current time: 25\n",
      "309/309 [==============================] - 0s 26us/step\n",
      "current time: 26\n",
      "309/309 [==============================] - 0s 26us/step\n",
      "current time: 27\n",
      "309/309 [==============================] - 0s 26us/step\n",
      "current time: 28\n",
      "309/309 [==============================] - 0s 26us/step\n",
      "current time: 29\n",
      "309/309 [==============================] - 0s 19us/step\n",
      "current time: 30\n",
      "309/309 [==============================] - 0s 26us/step\n",
      "current time: 31\n",
      "309/309 [==============================] - 0s 29us/step\n",
      "current time: 32\n",
      "309/309 [==============================] - 0s 23us/step\n",
      "current time: 33\n",
      "309/309 [==============================] - 0s 26us/step\n",
      "current time: 34\n",
      "309/309 [==============================] - 0s 26us/step\n",
      "current time: 35\n",
      "309/309 [==============================] - 0s 23us/step\n",
      "current time: 36\n",
      "309/309 [==============================] - 0s 26us/step\n",
      "current time: 37\n",
      "309/309 [==============================] - 0s 26us/step\n",
      "current time: 38\n",
      "309/309 [==============================] - 0s 26us/step\n",
      "current time: 39\n",
      "309/309 [==============================] - 0s 26us/step\n",
      "current time: 40\n",
      "309/309 [==============================] - 0s 26us/step\n",
      "current time: 41\n",
      "309/309 [==============================] - 0s 26us/step\n",
      "current time: 42\n",
      "309/309 [==============================] - 0s 26us/step\n",
      "current time: 43\n",
      "309/309 [==============================] - 0s 26us/step\n",
      "current time: 44\n",
      "309/309 [==============================] - 0s 23us/step\n",
      "current time: 45\n",
      "309/309 [==============================] - 0s 23us/step\n",
      "current time: 46\n",
      "309/309 [==============================] - 0s 23us/step\n",
      "current time: 47\n",
      "309/309 [==============================] - 0s 29us/step\n",
      "current time: 48\n",
      "309/309 [==============================] - 0s 23us/step\n",
      "current time: 49\n",
      "309/309 [==============================] - 0s 23us/step\n",
      "done.\n"
     ]
    }
   ],
   "source": [
    "# 1. Randomly split the data into a training and test sets by holding 30% of the data for testing. \n",
    "# 2. Train the model on the training data using 50 epochs.\n",
    "# 3. Evaluate the model on the test data and compute the mean squared error between the predicted \n",
    "# concrete strength and the actual concrete strength.\n",
    "\n",
    "from sklearn.model_selection import train_test_split\n",
    "\n",
    "mse_table = np.zeros((50,1)) # have a record of the mse's\n",
    "\n",
    "for i in list(range(0,50)):\n",
    "    \n",
    "    print('current time: ' + str(i))\n",
    "    \n",
    "    X_train, X_test, y_train, y_test = \\\n",
    "    train_test_split(predictors_norm, target, test_size=0.3, random_state=i)\n",
    "    \n",
    "    # fit the model\n",
    "    model.fit(X_train, y_train, validation_split=0.0, epochs=50, verbose=0)\n",
    "    \n",
    "    # evaluate the model and return the mse on the test set\n",
    "    mse_table[i] = model.evaluate(X_test, y_test)\n",
    "\n",
    "print('done.')"
   ]
  },
  {
   "cell_type": "code",
   "execution_count": 22,
   "metadata": {},
   "outputs": [
    {
     "name": "stdout",
     "output_type": "stream",
     "text": [
      "[[426.2887276 ]\n",
      " [227.25969866]\n",
      " [163.09918786]\n",
      " [126.80270825]\n",
      " [ 94.99559972]\n",
      " [ 64.81620747]\n",
      " [ 62.77180064]\n",
      " [ 46.50607144]\n",
      " [ 42.99713016]\n",
      " [ 44.35910451]\n",
      " [ 39.50525094]\n",
      " [ 38.06568688]\n",
      " [ 43.55918749]\n",
      " [ 47.7331717 ]\n",
      " [ 38.75889789]\n",
      " [ 33.58724037]\n",
      " [ 38.24912145]\n",
      " [ 36.85619511]\n",
      " [ 36.63240207]\n",
      " [ 37.62944897]\n",
      " [ 30.53587347]\n",
      " [ 37.10638475]\n",
      " [ 32.40855003]\n",
      " [ 35.687518  ]\n",
      " [ 36.99221609]\n",
      " [ 37.49569986]\n",
      " [ 30.85643082]\n",
      " [ 31.57322679]\n",
      " [ 35.33571973]\n",
      " [ 34.98233515]\n",
      " [ 33.80450544]\n",
      " [ 28.94566774]\n",
      " [ 29.67106437]\n",
      " [ 32.46602954]\n",
      " [ 35.27831691]\n",
      " [ 38.69962903]\n",
      " [ 29.36711879]\n",
      " [ 35.03977312]\n",
      " [ 32.07951968]\n",
      " [ 27.33001392]\n",
      " [ 36.08294457]\n",
      " [ 28.56837978]\n",
      " [ 31.66623509]\n",
      " [ 35.96947064]\n",
      " [ 34.05092433]\n",
      " [ 32.90252047]\n",
      " [ 31.83142177]\n",
      " [ 34.04250034]\n",
      " [ 33.92367885]\n",
      " [ 33.18318934]]\n",
      "mean of the mse: 53.766993951643165\n",
      "std of the mse: 63.79312186562229\n"
     ]
    }
   ],
   "source": [
    "# print the mse's\n",
    "print(mse_table)\n",
    "\n",
    "# print the mean of the mse's\n",
    "print('mean of the mse: ' + str(np.mean(mse_table)))\n",
    "\n",
    "# print the standard deviation of the mse's\n",
    "print('std of the mse: ' + str(np.std(mse_table)))"
   ]
  },
  {
   "cell_type": "markdown",
   "metadata": {},
   "source": [
    "<a id=\"item33\"></a>"
   ]
  },
  {
   "cell_type": "markdown",
   "metadata": {},
   "source": [
    "### Discussion: MSE mean and std are larger than those using un-normalized data.\n"
   ]
  },
  {
   "cell_type": "markdown",
   "metadata": {},
   "source": [
    "## Increase the number of epochs"
   ]
  },
  {
   "cell_type": "code",
   "execution_count": 23,
   "metadata": {},
   "outputs": [
    {
     "name": "stdout",
     "output_type": "stream",
     "text": [
      "current time: 0\n",
      "309/309 [==============================] - 0s 23us/step\n",
      "current time: 1\n",
      "309/309 [==============================] - 0s 44us/step\n",
      "current time: 2\n",
      "309/309 [==============================] - 0s 32us/step\n",
      "current time: 3\n",
      "309/309 [==============================] - 0s 26us/step\n",
      "current time: 4\n",
      "309/309 [==============================] - 0s 26us/step\n",
      "current time: 5\n",
      "309/309 [==============================] - 0s 29us/step\n",
      "current time: 6\n",
      "309/309 [==============================] - 0s 26us/step\n",
      "current time: 7\n",
      "309/309 [==============================] - 0s 26us/step\n",
      "current time: 8\n",
      "309/309 [==============================] - 0s 26us/step\n",
      "current time: 9\n",
      "309/309 [==============================] - 0s 26us/step\n",
      "current time: 10\n",
      "309/309 [==============================] - 0s 26us/step\n",
      "current time: 11\n",
      "309/309 [==============================] - 0s 26us/step\n",
      "current time: 12\n",
      "309/309 [==============================] - 0s 26us/step\n",
      "current time: 13\n",
      "309/309 [==============================] - 0s 32us/step\n",
      "current time: 14\n",
      "309/309 [==============================] - 0s 26us/step\n",
      "current time: 15\n",
      "309/309 [==============================] - 0s 26us/step\n",
      "current time: 16\n",
      "309/309 [==============================] - 0s 26us/step\n",
      "current time: 17\n",
      "309/309 [==============================] - 0s 26us/step\n",
      "current time: 18\n",
      "309/309 [==============================] - 0s 26us/step\n",
      "current time: 19\n",
      "309/309 [==============================] - 0s 39us/step\n",
      "current time: 20\n",
      "309/309 [==============================] - 0s 32us/step\n",
      "current time: 21\n",
      "309/309 [==============================] - 0s 26us/step\n",
      "current time: 22\n",
      "309/309 [==============================] - 0s 26us/step\n",
      "current time: 23\n",
      "309/309 [==============================] - 0s 29us/step\n",
      "current time: 24\n",
      "309/309 [==============================] - 0s 29us/step\n",
      "current time: 25\n",
      "309/309 [==============================] - 0s 29us/step\n",
      "current time: 26\n",
      "309/309 [==============================] - 0s 23us/step\n",
      "current time: 27\n",
      "309/309 [==============================] - 0s 36us/step\n",
      "current time: 28\n",
      "309/309 [==============================] - 0s 26us/step\n",
      "current time: 29\n",
      "309/309 [==============================] - 0s 26us/step\n",
      "current time: 30\n",
      "309/309 [==============================] - 0s 48us/step\n",
      "current time: 31\n",
      "309/309 [==============================] - 0s 26us/step\n",
      "current time: 32\n",
      "309/309 [==============================] - 0s 26us/step\n",
      "current time: 33\n",
      "309/309 [==============================] - 0s 69us/step\n",
      "current time: 34\n",
      "309/309 [==============================] - 0s 26us/step\n",
      "current time: 35\n",
      "309/309 [==============================] - 0s 29us/step\n",
      "current time: 36\n",
      "309/309 [==============================] - 0s 26us/step\n",
      "current time: 37\n",
      "309/309 [==============================] - 0s 65us/step\n",
      "current time: 38\n",
      "309/309 [==============================] - 0s 26us/step\n",
      "current time: 39\n",
      "309/309 [==============================] - 0s 39us/step\n",
      "current time: 40\n",
      "309/309 [==============================] - 0s 45us/step\n",
      "current time: 41\n",
      "309/309 [==============================] - 0s 29us/step\n",
      "current time: 42\n",
      "309/309 [==============================] - 0s 23us/step\n",
      "current time: 43\n",
      "309/309 [==============================] - 0s 26us/step\n",
      "current time: 44\n",
      "309/309 [==============================] - 0s 23us/step\n",
      "current time: 45\n",
      "309/309 [==============================] - 0s 23us/step\n",
      "current time: 46\n",
      "309/309 [==============================] - 0s 29us/step\n",
      "current time: 47\n",
      "309/309 [==============================] - 0s 26us/step\n",
      "current time: 48\n",
      "309/309 [==============================] - 0s 26us/step\n",
      "current time: 49\n",
      "309/309 [==============================] - 0s 55us/step\n",
      "done.\n"
     ]
    }
   ],
   "source": [
    "# 1. Randomly split the data into a training and test sets by holding 30% of the data for testing. \n",
    "# 2. Train the model on the training data using 50 epochs.\n",
    "# 3. Evaluate the model on the test data and compute the mean squared error between the predicted \n",
    "# concrete strength and the actual concrete strength.\n",
    "\n",
    "from sklearn.model_selection import train_test_split\n",
    "\n",
    "mse_table = np.zeros((50,1)) # have a record of the mse's\n",
    "\n",
    "for i in list(range(0,50)):\n",
    "    \n",
    "    print('current time: ' + str(i))\n",
    "    \n",
    "    X_train, X_test, y_train, y_test = \\\n",
    "    train_test_split(predictors_norm, target, test_size=0.3, random_state=i)\n",
    "    \n",
    "    # fit the model\n",
    "    model.fit(X_train, y_train, validation_split=0.0, epochs=100, verbose=0)\n",
    "    \n",
    "    # evaluate the model and return the mse on the test set\n",
    "    mse_table[i] = model.evaluate(X_test, y_test)\n",
    "    \n",
    "print('done.')"
   ]
  },
  {
   "cell_type": "code",
   "execution_count": 24,
   "metadata": {},
   "outputs": [
    {
     "name": "stdout",
     "output_type": "stream",
     "text": [
      "[[31.24270529]\n",
      " [35.41440222]\n",
      " [24.76018278]\n",
      " [33.47885302]\n",
      " [29.2598159 ]\n",
      " [31.3347072 ]\n",
      " [34.44547291]\n",
      " [29.21259991]\n",
      " [30.29189576]\n",
      " [30.53178185]\n",
      " [30.58247823]\n",
      " [29.3427172 ]\n",
      " [33.4297307 ]\n",
      " [38.16214349]\n",
      " [31.49164204]\n",
      " [25.85198304]\n",
      " [29.59231616]\n",
      " [28.59436761]\n",
      " [28.19398366]\n",
      " [30.02246167]\n",
      " [26.2730564 ]\n",
      " [29.90248028]\n",
      " [26.20398193]\n",
      " [29.96825644]\n",
      " [30.15801591]\n",
      " [34.71474362]\n",
      " [27.32448325]\n",
      " [27.18749463]\n",
      " [32.46655786]\n",
      " [30.36445973]\n",
      " [30.39158176]\n",
      " [27.30154779]\n",
      " [26.76853366]\n",
      " [29.49437378]\n",
      " [32.42976155]\n",
      " [35.08831041]\n",
      " [25.90642132]\n",
      " [31.22187689]\n",
      " [29.59350246]\n",
      " [26.03809023]\n",
      " [31.29927314]\n",
      " [24.11354281]\n",
      " [29.61461252]\n",
      " [33.12185137]\n",
      " [32.48263315]\n",
      " [29.37658499]\n",
      " [28.92472636]\n",
      " [32.2217956 ]\n",
      " [30.88922949]\n",
      " [29.09745064]]\n",
      "mean of the mse: 30.103509411549496\n",
      "std of the mse: 2.8751509577226475\n"
     ]
    }
   ],
   "source": [
    "# print the mse's\n",
    "print(mse_table)\n",
    "\n",
    "# print the mean of the mse's\n",
    "print('mean of the mse: ' + str(np.mean(mse_table)))\n",
    "\n",
    "# print the standard deviation of the mse's\n",
    "print('std of the mse: ' + str(np.std(mse_table)))"
   ]
  },
  {
   "cell_type": "markdown",
   "metadata": {},
   "source": [
    "<a id=\"item34\"></a>"
   ]
  },
  {
   "cell_type": "markdown",
   "metadata": {},
   "source": [
    "### Discussion: MSE mean and std are significantly smaller than those using un-normalized data and those using normailized data."
   ]
  },
  {
   "cell_type": "markdown",
   "metadata": {},
   "source": [
    "## Increase the number of hidden layers"
   ]
  },
  {
   "cell_type": "code",
   "execution_count": 25,
   "metadata": {},
   "outputs": [],
   "source": [
    "# define regression model\n",
    "\n",
    "#- Three hidden layers, each of 10 nodes and a ReLU activation function\n",
    "\n",
    "#- Use the adam optimizer and the mean squared error as the loss function.\n",
    "\n",
    "def regression_model():\n",
    "    # create model\n",
    "    model = Sequential()\n",
    "    model.add(Dense(10, activation='relu', input_shape=(n_cols,)))\n",
    "    model.add(Dense(10, activation='relu'))\n",
    "    model.add(Dense(10, activation='relu'))\n",
    "    model.add(Dense(1))\n",
    "    \n",
    "    # compile model\n",
    "    model.compile(optimizer='adam', loss='mean_squared_error')\n",
    "    return model"
   ]
  },
  {
   "cell_type": "code",
   "execution_count": 26,
   "metadata": {},
   "outputs": [
    {
     "name": "stdout",
     "output_type": "stream",
     "text": [
      "current time: 0\n",
      "309/309 [==============================] - 0s 48us/step\n",
      "current time: 1\n",
      "309/309 [==============================] - 0s 32us/step\n",
      "current time: 2\n",
      "309/309 [==============================] - 0s 65us/step\n",
      "current time: 3\n",
      "309/309 [==============================] - 0s 29us/step\n",
      "current time: 4\n",
      "309/309 [==============================] - 0s 32us/step\n",
      "current time: 5\n",
      "309/309 [==============================] - 0s 26us/step\n",
      "current time: 6\n",
      "309/309 [==============================] - 0s 32us/step\n",
      "current time: 7\n",
      "309/309 [==============================] - 0s 29us/step\n",
      "current time: 8\n",
      "309/309 [==============================] - 0s 29us/step\n",
      "current time: 9\n",
      "309/309 [==============================] - 0s 29us/step\n",
      "current time: 10\n",
      "309/309 [==============================] - 0s 23us/step\n",
      "current time: 11\n",
      "309/309 [==============================] - 0s 26us/step\n",
      "current time: 12\n",
      "309/309 [==============================] - 0s 32us/step\n",
      "current time: 13\n",
      "309/309 [==============================] - 0s 29us/step\n",
      "current time: 14\n",
      "309/309 [==============================] - 0s 26us/step\n",
      "current time: 15\n",
      "309/309 [==============================] - 0s 26us/step\n",
      "current time: 16\n",
      "309/309 [==============================] - 0s 26us/step\n",
      "current time: 17\n",
      "309/309 [==============================] - 0s 26us/step\n",
      "current time: 18\n",
      "309/309 [==============================] - 0s 26us/step\n",
      "current time: 19\n",
      "309/309 [==============================] - 0s 26us/step\n",
      "current time: 20\n",
      "309/309 [==============================] - 0s 23us/step\n",
      "current time: 21\n",
      "309/309 [==============================] - 0s 23us/step\n",
      "current time: 22\n",
      "309/309 [==============================] - 0s 29us/step\n",
      "current time: 23\n",
      "309/309 [==============================] - 0s 23us/step\n",
      "current time: 24\n",
      "309/309 [==============================] - 0s 26us/step\n",
      "current time: 25\n",
      "309/309 [==============================] - 0s 23us/step\n",
      "current time: 26\n",
      "309/309 [==============================] - 0s 26us/step\n",
      "current time: 27\n",
      "309/309 [==============================] - 0s 29us/step\n",
      "current time: 28\n",
      "309/309 [==============================] - 0s 26us/step\n",
      "current time: 29\n",
      "309/309 [==============================] - 0s 51us/step\n",
      "current time: 30\n",
      "309/309 [==============================] - 0s 26us/step\n",
      "current time: 31\n",
      "309/309 [==============================] - 0s 26us/step\n",
      "current time: 32\n",
      "309/309 [==============================] - 0s 26us/step\n",
      "current time: 33\n",
      "309/309 [==============================] - 0s 26us/step\n",
      "current time: 34\n",
      "309/309 [==============================] - 0s 26us/step\n",
      "current time: 35\n",
      "309/309 [==============================] - 0s 80us/step\n",
      "current time: 36\n",
      "309/309 [==============================] - 0s 26us/step\n",
      "current time: 37\n",
      "309/309 [==============================] - 0s 23us/step\n",
      "current time: 38\n",
      "309/309 [==============================] - 0s 29us/step\n",
      "current time: 39\n",
      "309/309 [==============================] - 0s 29us/step\n",
      "current time: 40\n",
      "309/309 [==============================] - 0s 26us/step\n",
      "current time: 41\n",
      "309/309 [==============================] - 0s 26us/step\n",
      "current time: 42\n",
      "309/309 [==============================] - 0s 23us/step\n",
      "current time: 43\n",
      "309/309 [==============================] - 0s 26us/step\n",
      "current time: 44\n",
      "309/309 [==============================] - 0s 23us/step\n",
      "current time: 45\n",
      "309/309 [==============================] - 0s 23us/step\n",
      "current time: 46\n",
      "309/309 [==============================] - 0s 23us/step\n",
      "current time: 47\n",
      "309/309 [==============================] - 0s 26us/step\n",
      "current time: 48\n",
      "309/309 [==============================] - 0s 23us/step\n",
      "current time: 49\n",
      "309/309 [==============================] - 0s 23us/step\n",
      "done.\n"
     ]
    }
   ],
   "source": [
    "# 1. Randomly split the data into a training and test sets by holding 30% of the data for testing. \n",
    "# 2. Train the model on the training data using 50 epochs.\n",
    "# 3. Evaluate the model on the test data and compute the mean squared error between the predicted \n",
    "# concrete strength and the actual concrete strength.\n",
    "\n",
    "from sklearn.model_selection import train_test_split\n",
    "\n",
    "mse_table = np.zeros((50,1)) # have a record of the mse's\n",
    "\n",
    "for i in list(range(0,50)):\n",
    "    \n",
    "    print('current time: ' + str(i))\n",
    "    \n",
    "    X_train, X_test, y_train, y_test = \\\n",
    "    train_test_split(predictors_norm, target, test_size=0.3, random_state=i)\n",
    "    \n",
    "    # fit the model\n",
    "    model.fit(X_train, y_train, validation_split=0.0, epochs=100, verbose=0)\n",
    "    \n",
    "    # evaluate the model and return the mse on the test set\n",
    "    mse_table[i] = model.evaluate(X_test, y_test)\n",
    "    \n",
    "print('done.')"
   ]
  },
  {
   "cell_type": "code",
   "execution_count": 27,
   "metadata": {},
   "outputs": [
    {
     "name": "stdout",
     "output_type": "stream",
     "text": [
      "[[28.65734078]\n",
      " [32.46583313]\n",
      " [22.29694515]\n",
      " [28.9882346 ]\n",
      " [26.45583684]\n",
      " [27.5660555 ]\n",
      " [32.17704603]\n",
      " [28.32607743]\n",
      " [27.57278729]\n",
      " [27.06764452]\n",
      " [28.11858741]\n",
      " [28.37461654]\n",
      " [31.16927278]\n",
      " [36.64244341]\n",
      " [30.8783762 ]\n",
      " [24.11762085]\n",
      " [28.47110255]\n",
      " [26.7369648 ]\n",
      " [27.49509257]\n",
      " [28.45352199]\n",
      " [26.18396292]\n",
      " [28.27604915]\n",
      " [26.08552837]\n",
      " [28.14089352]\n",
      " [28.53079174]\n",
      " [33.34456964]\n",
      " [26.99917851]\n",
      " [27.59006837]\n",
      " [31.63602352]\n",
      " [28.57111323]\n",
      " [30.14713231]\n",
      " [26.3043503 ]\n",
      " [26.25137928]\n",
      " [27.96654315]\n",
      " [31.00352281]\n",
      " [33.39264226]\n",
      " [25.29645486]\n",
      " [29.9557656 ]\n",
      " [29.16229365]\n",
      " [25.5939383 ]\n",
      " [30.4508209 ]\n",
      " [23.96769606]\n",
      " [28.66635375]\n",
      " [32.64126396]\n",
      " [32.36040786]\n",
      " [29.40696327]\n",
      " [27.99249279]\n",
      " [31.24796784]\n",
      " [30.6999773 ]\n",
      " [29.4212664 ]]\n",
      "mean of the mse: 28.786376240060548\n",
      "std of the mse: 2.6732304461761003\n"
     ]
    }
   ],
   "source": [
    "# print the mse's\n",
    "print(mse_table)\n",
    "\n",
    "# print the mean of the mse's\n",
    "print('mean of the mse: ' + str(np.mean(mse_table)))\n",
    "\n",
    "# print the standard deviation of the mse's\n",
    "print('std of the mse: ' + str(np.std(mse_table)))"
   ]
  },
  {
   "cell_type": "markdown",
   "metadata": {},
   "source": [
    "### Discussion: MSE mean and std are significantly smaller than those using un-normalized data and those using normailized data. Further, they are slightly smaller than those using normalized data and trained with 100 epochs instead of 50 epochs."
   ]
  },
  {
   "cell_type": "code",
   "execution_count": null,
   "metadata": {},
   "outputs": [],
   "source": []
  }
 ],
 "metadata": {
  "kernelspec": {
   "display_name": "Python 3",
   "language": "python",
   "name": "python3"
  },
  "language_info": {
   "codemirror_mode": {
    "name": "ipython",
    "version": 3
   },
   "file_extension": ".py",
   "mimetype": "text/x-python",
   "name": "python",
   "nbconvert_exporter": "python",
   "pygments_lexer": "ipython3",
   "version": "3.7.3"
  }
 },
 "nbformat": 4,
 "nbformat_minor": 4
}
